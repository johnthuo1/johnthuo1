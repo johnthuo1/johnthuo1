{
  "nbformat": 4,
  "nbformat_minor": 0,
  "metadata": {
    "colab": {
      "name": "John_Thuo_Mwangi_TechnologyWeek1_Cohort3_9/12/2021",
      "provenance": [],
      "authorship_tag": "ABX9TyPFZoKR9j5/p1KzCi7Hi0ne",
      "include_colab_link": true
    },
    "kernelspec": {
      "name": "python3",
      "display_name": "Python 3"
    },
    "language_info": {
      "name": "python"
    }
  },
  "cells": [
    {
      "cell_type": "markdown",
      "metadata": {
        "id": "view-in-github",
        "colab_type": "text"
      },
      "source": [
        "<a href=\"https://colab.research.google.com/github/johnthuo1/johnthuo1/blob/main/John_Thuo_Mwangi_TechnologyWeek1_Cohort3_9_12_2021.ipynb\" target=\"_parent\"><img src=\"https://colab.research.google.com/assets/colab-badge.svg\" alt=\"Open In Colab\"/></a>"
      ]
    },
    {
      "cell_type": "code",
      "metadata": {
        "colab": {
          "base_uri": "https://localhost:8080/"
        },
        "id": "5qvambFSRsPL",
        "outputId": "0522e9a5-5bea-463f-896e-0a87b5042c62"
      },
      "source": [
        "import math\n",
        "\n",
        "#1.Perform Basic Calculations\n",
        "# Logarithms to base 10\n",
        "#Solve: y = log 8 + log 5\n",
        "def logarithms_to_base10(x,z):\n",
        "  y = math.log10(x) + math.log10(z)\n",
        "  return f\"The sum of log {x} and log {z} is {y}\"\n",
        "\n",
        "print(logarithms_to_base10(8,5))\n"
      ],
      "execution_count": 54,
      "outputs": [
        {
          "output_type": "stream",
          "name": "stdout",
          "text": [
            "The sum of log 8 and log 5 is 1.6020599913279625\n"
          ]
        }
      ]
    },
    {
      "cell_type": "code",
      "metadata": {
        "colab": {
          "base_uri": "https://localhost:8080/"
        },
        "id": "nGp_dC6FWGMF",
        "outputId": "90dc47ac-d063-441f-ef1f-45d8bc45bd4d"
      },
      "source": [
        "#Simple Quadratic Equation solver using Quadratic formula in Python.\n",
        "# y=6x^2 -17x + 12\n",
        "#We first establish the discriminant of the equation using the formula d = b^2-4ac\n",
        "\n",
        "import math\n",
        "\n",
        "def Quadratic_calculator(a,b,c):\n",
        "  d = b**2-4*a*c  # Discriminant. It tells us whether there are real solutions to the quadratic equation.\n",
        "  if d < 0:\n",
        "    print(\"Quadratic Equation has no real solutions \")\n",
        "  elif d == 0:\n",
        "    x = (-b+math.sqrt(b**2-4*a*c))/2*a\n",
        "    print(\"Solution for x is : \", x)\n",
        "  else:\n",
        "    x1 = (-b+math.sqrt(b**2-4*a*c))/2*a\n",
        "    x2 = (-b-math.sqrt(b**2-4*a*c))/2*a\n",
        "    print(\"The roots of the equations are: \", x1, \" and\", x2)\n",
        "    \n",
        "print(Quadratic_calculator(6,-17,5))\n",
        "  \n",
        "\n",
        "\n",
        "\n",
        "\n",
        "\n"
      ],
      "execution_count": 52,
      "outputs": [
        {
          "output_type": "stream",
          "name": "stdout",
          "text": [
            "The roots of the equations are:  90.0  and 12.0\n",
            "None\n"
          ]
        }
      ]
    },
    {
      "cell_type": "code",
      "metadata": {
        "colab": {
          "base_uri": "https://localhost:8080/",
          "height": 295
        },
        "id": "DDEmCLUZZKmV",
        "outputId": "065fd755-c3bd-4672-fe29-77e48e425b46"
      },
      "source": [
        "''' Graphing Linear Equation 2x + 5'''\n",
        "import matplotlib.pyplot as plt\n",
        "import numpy as np\n",
        "\n",
        "plt.title(\"Graph of y = 2x + 5\")\n",
        "plt.xlabel(\"X Values\")\n",
        "plt.ylabel(\"Y Values\")\n",
        "x = np.arange(0,10,1)\n",
        "\n",
        "\n",
        "y = 2*x + 5\n",
        "plt.plot(x,y)\n",
        "\n",
        "\n",
        "plt.show()"
      ],
      "execution_count": 53,
      "outputs": [
        {
          "output_type": "display_data",
          "data": {
            "image/png": "[encoded data removed]",
            "text/plain": [
              "<Figure size 432x288 with 1 Axes>"
            ]
          },
          "metadata": {
            "needs_background": "light"
          }
        }
      ]
    }
  ]
}